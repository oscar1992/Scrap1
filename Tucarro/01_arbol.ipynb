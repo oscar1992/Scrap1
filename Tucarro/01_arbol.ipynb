{
 "cells": [
  {
   "cell_type": "code",
   "execution_count": null,
   "id": "78ced058",
   "metadata": {},
   "outputs": [],
   "source": [
    "import pandas as pd\n",
    "import numpy as np\n",
    "import os\n",
    "import datetime\n",
    "import re\n",
    "\n",
    "from bs4 import BeautifulSoup\n",
    "import requests"
   ]
  },
  {
   "cell_type": "code",
   "execution_count": null,
   "id": "28be5150",
   "metadata": {},
   "outputs": [],
   "source": [
    "def multiplos_49(num):\n",
    "    multiples = []\n",
    "    for i in range(1,num):\n",
    "        if i % 49 == 0:\n",
    "            multiples.append(i)\n",
    "    return multiples\n",
    "\n",
    "def arreglar_publicacion(entrada):\n",
    "    numero_actual = int(re.findall(r'\\d+', entrada)[0])\n",
    "    respuesta = pd.Timestamp(datetime.date.today())\n",
    "    if ('día' in entrada) or ('dia' in entrada):\n",
    "        respuesta = pd.Timestamp(datetime.date.today()) - pd.Timedelta(days = numero_actual)\n",
    "    elif 'mes' in entrada:\n",
    "        respuesta = pd.Timestamp(datetime.date.today()) - pd.Timedelta(days = numero_actual*30)\n",
    "    else:\n",
    "        respuesta = pd.Timestamp(datetime.date.today()) - pd.Timedelta(days = numero_actual*365)\n",
    "        \n",
    "    return pd.Timestamp(respuesta.date())\n",
    "\n",
    "def calcular_numero_carros(entrada):\n",
    "    response = requests.get(entrada)\n",
    "    soup = BeautifulSoup(response.content, 'html.parser')\n",
    "    search_span = soup.find('span', class_=lambda x: x and 'ui-search-search' in x)\n",
    "    print(search_span.text)\n",
    "    return int(search_span.text.replace(' resultados', '').replace('.', ''))\n",
    "\n",
    "\n",
    "\n",
    "\n",
    "\n",
    "\n",
    "def informacion_carros_actuales (entrada):\n",
    "    ## Conseguir URL's de carros en pagina actual\n",
    "    response = requests.get(entrada)\n",
    "    soup = BeautifulSoup(response.content, 'html.parser')\n",
    "    links_carros = soup.find_all('a', href =lambda x: x and 'articulo.tucarro.com' in x)\n",
    "    hrefs_carros = [link.get(\"href\") for link in links_carros]\n",
    "    hrefs_carros = list(set(hrefs_carros))\n",
    "    ## Iterar sobre cada carro para obtener su informacion\n",
    "    for carro in hrefs_carros:\n",
    "        conseguir_informacion_carro(carro)"
   ]
  },
  {
   "cell_type": "code",
   "execution_count": null,
   "id": "23e813d5",
   "metadata": {},
   "outputs": [],
   "source": [
    "url = 'https://carros.tucarro.com.co/_FiltersAvailableSidebar?filter=MODEL'\n",
    "\n",
    "response = requests.get(url)\n",
    "soup = BeautifulSoup(response.content, 'html.parser')\n",
    "links = soup.find_all('a')\n",
    "modelos = ['/'.join(link.get(\"href\").split('/')[:4])+'/_NoIndex_True' for link in links if ('tech-and-cookies' not in str(link.get(\"href\")))]"
   ]
  },
  {
   "cell_type": "code",
   "execution_count": null,
   "id": "fd4b919c",
   "metadata": {},
   "outputs": [],
   "source": [
    "contador_modelos = 0\n",
    "total_modelos = len(modelos)\n",
    "for modelo in modelos:\n",
    "    ## Imprimir informacion del modelo\n",
    "    contador_modelos +=1\n",
    "    print(f'Este es el modelo {contador_modelos} de {total_modelos}')\n",
    "    print('--')\n",
    "    print(modelo)\n",
    "    print('--')\n",
    "    ## Obtener numero de carros de este modelo\n",
    "    numero_carros = calcular_numero_carros(modelo)\n",
    "    ## Obtener informacion de carros pagina actual\n",
    "    informacion_carros_actuales(modelo)\n",
    "    ## Iterar sobre_paginas del mismo modelo\n",
    "    for numero_pagina in multiplos_49(numero_carros):\n",
    "        ## Obtener URL de la pagina actual\n",
    "        modificacion = f'_Desde_{numero_pagina}_NoIndex_True'\n",
    "        url_actual = modelo.replace('_NoIndex_True', modificacion)\n",
    "        ## Extraer informacion carros de esta pagina\n",
    "        informacion_carros_actuales(url_actual)\n",
    "    print('--------------------------------')"
   ]
  },
  {
   "cell_type": "code",
   "execution_count": null,
   "id": "892334e2",
   "metadata": {},
   "outputs": [],
   "source": []
  },
  {
   "cell_type": "code",
   "execution_count": null,
   "id": "ee2e4846",
   "metadata": {},
   "outputs": [],
   "source": [
    "def conseguir_informacion_carro (entrada):\n",
    "    response = requests.get(entrada)\n",
    "    soup = BeautifulSoup(response.content, 'html.parser')\n",
    "    \n",
    "    ## Short_Description\n",
    "    short_description = soup.find('div', class_=lambda x: x and 'short-description' in x)\n",
    "    \n",
    "    year = int(short_description.find('span').text.split('|')[0])\n",
    "    \n",
    "    kilometros = int(short_description.find('span').text.split('|')[1].split('km')[0].replace('.', ''))\n",
    "    \n",
    "    publicacion = short_description.find('span').text.split('Publicado')[1]\n",
    "    fecha_publicacion = arreglar_publicacion(publicacion)\n",
    "    \n",
    "    titulo = short_description.find('h1').text\n",
    "    \n",
    "    precio = int(short_description.find('meta').get('content'))\n",
    "    \n",
    "    ## Seller_Profile\n",
    "    seller_profile = soup.find('div', class_=lambda x: x and 'seller-profile' in x)\n",
    "    \n",
    "    \n",
    "    \n",
    "    ## Specs_Table\n",
    "    specs_table = soup.find('div', class_=lambda x: x and 'specs__table' in x )\n",
    "    \n",
    "    "
   ]
  },
  {
   "cell_type": "code",
   "execution_count": null,
   "id": "4172854b",
   "metadata": {},
   "outputs": [],
   "source": [
    "nombre_vendedor = seller_profile.find('h3').getText()"
   ]
  },
  {
   "cell_type": "code",
   "execution_count": null,
   "id": "72c97993",
   "metadata": {},
   "outputs": [],
   "source": []
  },
  {
   "cell_type": "code",
   "execution_count": null,
   "id": "62c6b231",
   "metadata": {},
   "outputs": [],
   "source": []
  },
  {
   "cell_type": "code",
   "execution_count": null,
   "id": "d7ce1c68",
   "metadata": {},
   "outputs": [],
   "source": []
  },
  {
   "cell_type": "code",
   "execution_count": null,
   "id": "850208c2",
   "metadata": {},
   "outputs": [],
   "source": [
    "a = 'https://articulo.tucarro.com.co/MCO-1268666883-chevrolet-tracker-ltz-mod-2019-4x4-aut-_JM#position=1&search_layout=grid&type=item&tracking_id=14a10e93-d05d-4f3b-8911-a79a1eee4b01'\n",
    "response = requests.get(a)\n",
    "soup = BeautifulSoup(response.content, 'html.parser')\n",
    "sou = soup.find('div', class_=lambda x: x and 'pdp-container--pdp' in x)"
   ]
  },
  {
   "cell_type": "code",
   "execution_count": null,
   "id": "1301d30c",
   "metadata": {},
   "outputs": [],
   "source": [
    "print(soup.prettify())"
   ]
  },
  {
   "cell_type": "code",
   "execution_count": null,
   "id": "6f3f02f0",
   "metadata": {},
   "outputs": [],
   "source": []
  },
  {
   "cell_type": "code",
   "execution_count": null,
   "id": "1e2754fb",
   "metadata": {},
   "outputs": [],
   "source": [
    "short_description = soup.find('div', class_=lambda x: x and 'short-description' in x)\n"
   ]
  },
  {
   "cell_type": "code",
   "execution_count": null,
   "id": "801cfb5d",
   "metadata": {},
   "outputs": [],
   "source": [
    "int(short_description.find('meta').get('content'))"
   ]
  },
  {
   "cell_type": "code",
   "execution_count": null,
   "id": "653e8c4c",
   "metadata": {},
   "outputs": [],
   "source": [
    "\n",
    "    "
   ]
  },
  {
   "cell_type": "code",
   "execution_count": null,
   "id": "1fd1ff27",
   "metadata": {},
   "outputs": [],
   "source": [
    "calcular_fecha_publicacion(' hace 20 días')"
   ]
  },
  {
   "cell_type": "code",
   "execution_count": null,
   "id": "a65d998c",
   "metadata": {},
   "outputs": [],
   "source": [
    "soup.find('div', class_=lambda x: x and 'seller-profile' in x)"
   ]
  },
  {
   "cell_type": "code",
   "execution_count": null,
   "id": "86d821bd",
   "metadata": {},
   "outputs": [],
   "source": [
    "soup.find_all('svg', class_=lambda x: x and 'seller-profile' in x)"
   ]
  },
  {
   "cell_type": "code",
   "execution_count": null,
   "id": "70990949",
   "metadata": {},
   "outputs": [],
   "source": [
    "##############"
   ]
  },
  {
   "cell_type": "code",
   "execution_count": null,
   "id": "21632368",
   "metadata": {},
   "outputs": [],
   "source": [
    "for i in soup.find('div', class_=lambda x: x and 'specs__table' in x ).find_all('span'):\n",
    "    print(i.text)\n"
   ]
  },
  {
   "cell_type": "code",
   "execution_count": null,
   "id": "43a67a6f",
   "metadata": {},
   "outputs": [],
   "source": [
    "for i in soup.find('div', class_=lambda x: x and 'specs__table' in x ).find_all('th'):\n",
    "    print(i.text)"
   ]
  },
  {
   "cell_type": "code",
   "execution_count": null,
   "id": "f114bf87",
   "metadata": {},
   "outputs": [],
   "source": []
  },
  {
   "cell_type": "code",
   "execution_count": null,
   "id": "7fda73b1",
   "metadata": {},
   "outputs": [],
   "source": [
    "soup.find('script', {'type': 'application/ld+json'})"
   ]
  },
  {
   "cell_type": "code",
   "execution_count": null,
   "id": "10e5e867",
   "metadata": {},
   "outputs": [],
   "source": [
    "####"
   ]
  },
  {
   "cell_type": "code",
   "execution_count": null,
   "id": "fb87ee0d",
   "metadata": {},
   "outputs": [],
   "source": [
    "soup.find('div', {'class': 'andes-tab-content', 'id': 'tab-content-id-confort-y-conveniencia'})"
   ]
  }
 ],
 "metadata": {
  "kernelspec": {
   "display_name": "Python 3 (ipykernel)",
   "language": "python",
   "name": "python3"
  },
  "language_info": {
   "codemirror_mode": {
    "name": "ipython",
    "version": 3
   },
   "file_extension": ".py",
   "mimetype": "text/x-python",
   "name": "python",
   "nbconvert_exporter": "python",
   "pygments_lexer": "ipython3",
   "version": "3.10.9"
  }
 },
 "nbformat": 4,
 "nbformat_minor": 5
}
